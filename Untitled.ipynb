{
 "cells": [
  {
   "cell_type": "code",
   "execution_count": 1,
   "metadata": {},
   "outputs": [],
   "source": [
    "import pandas as pd\n",
    "import numpy as np"
   ]
  },
  {
   "cell_type": "code",
   "execution_count": 6,
   "metadata": {},
   "outputs": [],
   "source": [
    "df = pd.read_json('final_data.json')"
   ]
  },
  {
   "cell_type": "code",
   "execution_count": 5,
   "metadata": {},
   "outputs": [
    {
     "data": {
      "text/html": [
       "<div>\n",
       "<style scoped>\n",
       "    .dataframe tbody tr th:only-of-type {\n",
       "        vertical-align: middle;\n",
       "    }\n",
       "\n",
       "    .dataframe tbody tr th {\n",
       "        vertical-align: top;\n",
       "    }\n",
       "\n",
       "    .dataframe thead th {\n",
       "        text-align: right;\n",
       "    }\n",
       "</style>\n",
       "<table border=\"1\" class=\"dataframe\">\n",
       "  <thead>\n",
       "    <tr style=\"text-align: right;\">\n",
       "      <th></th>\n",
       "      <th>author</th>\n",
       "      <th>book_title</th>\n",
       "      <th>ratings</th>\n",
       "      <th>genre</th>\n",
       "    </tr>\n",
       "  </thead>\n",
       "  <tbody>\n",
       "    <tr>\n",
       "      <th>0</th>\n",
       "      <td>Jane Austen</td>\n",
       "      <td>\\n      Pride and Prejudice\\n</td>\n",
       "      <td>4.26</td>\n",
       "      <td>Classics</td>\n",
       "    </tr>\n",
       "    <tr>\n",
       "      <th>1</th>\n",
       "      <td>George Orwell</td>\n",
       "      <td>\\n      1984\\n</td>\n",
       "      <td>4.19</td>\n",
       "      <td>Classics</td>\n",
       "    </tr>\n",
       "    <tr>\n",
       "      <th>2</th>\n",
       "      <td>Fyodor Dostoyevsky</td>\n",
       "      <td>\\n      Crime and Punishment\\n</td>\n",
       "      <td>4.22</td>\n",
       "      <td>Classics</td>\n",
       "    </tr>\n",
       "    <tr>\n",
       "      <th>3</th>\n",
       "      <td>William Shakespeare</td>\n",
       "      <td>\\n      Hamlet\\n</td>\n",
       "      <td>4.02</td>\n",
       "      <td>Classics</td>\n",
       "    </tr>\n",
       "    <tr>\n",
       "      <th>4</th>\n",
       "      <td>Gabriel García Márquez</td>\n",
       "      <td>\\n      One Hundred Years of Solitude\\n</td>\n",
       "      <td>4.08</td>\n",
       "      <td>Fiction</td>\n",
       "    </tr>\n",
       "  </tbody>\n",
       "</table>\n",
       "</div>"
      ],
      "text/plain": [
       "                   author                               book_title  ratings  \\\n",
       "0             Jane Austen            \\n      Pride and Prejudice\\n     4.26   \n",
       "1           George Orwell                           \\n      1984\\n     4.19   \n",
       "2      Fyodor Dostoyevsky           \\n      Crime and Punishment\\n     4.22   \n",
       "3     William Shakespeare                         \\n      Hamlet\\n     4.02   \n",
       "4  Gabriel García Márquez  \\n      One Hundred Years of Solitude\\n     4.08   \n",
       "\n",
       "      genre  \n",
       "0  Classics  \n",
       "1  Classics  \n",
       "2  Classics  \n",
       "3  Classics  \n",
       "4   Fiction  "
      ]
     },
     "execution_count": 5,
     "metadata": {},
     "output_type": "execute_result"
    }
   ],
   "source": [
    "df.head()"
   ]
  },
  {
   "cell_type": "code",
   "execution_count": 7,
   "metadata": {},
   "outputs": [
    {
     "data": {
      "text/html": [
       "<div>\n",
       "<style scoped>\n",
       "    .dataframe tbody tr th:only-of-type {\n",
       "        vertical-align: middle;\n",
       "    }\n",
       "\n",
       "    .dataframe tbody tr th {\n",
       "        vertical-align: top;\n",
       "    }\n",
       "\n",
       "    .dataframe thead th {\n",
       "        text-align: right;\n",
       "    }\n",
       "</style>\n",
       "<table border=\"1\" class=\"dataframe\">\n",
       "  <thead>\n",
       "    <tr style=\"text-align: right;\">\n",
       "      <th></th>\n",
       "      <th>author</th>\n",
       "      <th>book_title</th>\n",
       "      <th>ratings</th>\n",
       "      <th>genre</th>\n",
       "    </tr>\n",
       "  </thead>\n",
       "  <tbody>\n",
       "    <tr>\n",
       "      <th>0</th>\n",
       "      <td>Jane Austen</td>\n",
       "      <td>Pride and Prejudice</td>\n",
       "      <td>4.26</td>\n",
       "      <td>Classics</td>\n",
       "    </tr>\n",
       "    <tr>\n",
       "      <th>1</th>\n",
       "      <td>George Orwell</td>\n",
       "      <td>1984</td>\n",
       "      <td>4.19</td>\n",
       "      <td>Classics</td>\n",
       "    </tr>\n",
       "    <tr>\n",
       "      <th>2</th>\n",
       "      <td>Fyodor Dostoyevsky</td>\n",
       "      <td>Crime and Punishment</td>\n",
       "      <td>4.22</td>\n",
       "      <td>Classics</td>\n",
       "    </tr>\n",
       "    <tr>\n",
       "      <th>3</th>\n",
       "      <td>William Shakespeare</td>\n",
       "      <td>Hamlet</td>\n",
       "      <td>4.02</td>\n",
       "      <td>Classics</td>\n",
       "    </tr>\n",
       "    <tr>\n",
       "      <th>4</th>\n",
       "      <td>Gabriel García Márquez</td>\n",
       "      <td>One Hundred Years of Solitude</td>\n",
       "      <td>4.08</td>\n",
       "      <td>Fiction</td>\n",
       "    </tr>\n",
       "  </tbody>\n",
       "</table>\n",
       "</div>"
      ],
      "text/plain": [
       "                   author                     book_title  ratings     genre\n",
       "0             Jane Austen            Pride and Prejudice     4.26  Classics\n",
       "1           George Orwell                           1984     4.19  Classics\n",
       "2      Fyodor Dostoyevsky           Crime and Punishment     4.22  Classics\n",
       "3     William Shakespeare                         Hamlet     4.02  Classics\n",
       "4  Gabriel García Márquez  One Hundred Years of Solitude     4.08   Fiction"
      ]
     },
     "execution_count": 7,
     "metadata": {},
     "output_type": "execute_result"
    }
   ],
   "source": [
    "df['book_title'] = df['book_title'].apply(lambda x: x.strip())\n",
    "df.head()"
   ]
  },
  {
   "cell_type": "code",
   "execution_count": 8,
   "metadata": {},
   "outputs": [],
   "source": [
    "df.to_json('cleaned.json')"
   ]
  },
  {
   "cell_type": "code",
   "execution_count": 9,
   "metadata": {},
   "outputs": [
    {
     "data": {
      "text/html": [
       "<div>\n",
       "<style scoped>\n",
       "    .dataframe tbody tr th:only-of-type {\n",
       "        vertical-align: middle;\n",
       "    }\n",
       "\n",
       "    .dataframe tbody tr th {\n",
       "        vertical-align: top;\n",
       "    }\n",
       "\n",
       "    .dataframe thead th {\n",
       "        text-align: right;\n",
       "    }\n",
       "</style>\n",
       "<table border=\"1\" class=\"dataframe\">\n",
       "  <thead>\n",
       "    <tr style=\"text-align: right;\">\n",
       "      <th></th>\n",
       "      <th>author</th>\n",
       "      <th>book_title</th>\n",
       "      <th>ratings</th>\n",
       "      <th>genre</th>\n",
       "    </tr>\n",
       "  </thead>\n",
       "  <tbody>\n",
       "    <tr>\n",
       "      <th>0</th>\n",
       "      <td>Jane Austen</td>\n",
       "      <td>Pride and Prejudice</td>\n",
       "      <td>4.26</td>\n",
       "      <td>Classics</td>\n",
       "    </tr>\n",
       "    <tr>\n",
       "      <th>1</th>\n",
       "      <td>George Orwell</td>\n",
       "      <td>1984</td>\n",
       "      <td>4.19</td>\n",
       "      <td>Classics</td>\n",
       "    </tr>\n",
       "    <tr>\n",
       "      <th>2</th>\n",
       "      <td>Fyodor Dostoyevsky</td>\n",
       "      <td>Crime and Punishment</td>\n",
       "      <td>4.22</td>\n",
       "      <td>Classics</td>\n",
       "    </tr>\n",
       "    <tr>\n",
       "      <th>3</th>\n",
       "      <td>William Shakespeare</td>\n",
       "      <td>Hamlet</td>\n",
       "      <td>4.02</td>\n",
       "      <td>Classics</td>\n",
       "    </tr>\n",
       "    <tr>\n",
       "      <th>4</th>\n",
       "      <td>Gabriel García Márquez</td>\n",
       "      <td>One Hundred Years of Solitude</td>\n",
       "      <td>4.08</td>\n",
       "      <td>Fiction</td>\n",
       "    </tr>\n",
       "  </tbody>\n",
       "</table>\n",
       "</div>"
      ],
      "text/plain": [
       "                   author                     book_title  ratings     genre\n",
       "0             Jane Austen            Pride and Prejudice     4.26  Classics\n",
       "1           George Orwell                           1984     4.19  Classics\n",
       "2      Fyodor Dostoyevsky           Crime and Punishment     4.22  Classics\n",
       "3     William Shakespeare                         Hamlet     4.02  Classics\n",
       "4  Gabriel García Márquez  One Hundred Years of Solitude     4.08   Fiction"
      ]
     },
     "execution_count": 9,
     "metadata": {},
     "output_type": "execute_result"
    }
   ],
   "source": [
    "df.head()"
   ]
  },
  {
   "cell_type": "code",
   "execution_count": 24,
   "metadata": {},
   "outputs": [],
   "source": [
    "def recommender(genre):\n",
    "    '''\n",
    "    Recomment top rated book from same genre.\n",
    "    If only single book from that genre -> return randomly from alltime top10\n",
    "    \n",
    "    '''\n",
    "    \n",
    "    top = df[df['genre'] == genre].sort_values(by='ratings', ascending=False)\n",
    "    if top.shape[0] > 1:\n",
    "        return dict(top.iloc[0])\n",
    "    else:\n",
    "        return dict(df.sort_values(by='ratings', ascending=False).iloc[:10].sample(1).squeeze())\n"
   ]
  },
  {
   "cell_type": "code",
   "execution_count": 15,
   "metadata": {},
   "outputs": [
    {
     "data": {
      "text/plain": [
       "Classics         58\n",
       "Fiction          29\n",
       "Poetry            6\n",
       "Plays             2\n",
       "Short Stories     1\n",
       "Philosophy        1\n",
       "Religion          1\n",
       "Cultural          1\n",
       "Historical        1\n",
       "Name: genre, dtype: int64"
      ]
     },
     "execution_count": 15,
     "metadata": {},
     "output_type": "execute_result"
    }
   ],
   "source": [
    "df['genre'].value_counts()"
   ]
  },
  {
   "cell_type": "code",
   "execution_count": 25,
   "metadata": {},
   "outputs": [
    {
     "data": {
      "text/plain": [
       "{'author': 'Edgar Allan Poe',\n",
       " 'book_title': 'The Collected Tales of Edgar Allan Poe',\n",
       " 'ratings': 4.34,\n",
       " 'genre': 'Classics'}"
      ]
     },
     "execution_count": 25,
     "metadata": {},
     "output_type": "execute_result"
    }
   ],
   "source": [
    "recommender('Classics')"
   ]
  },
  {
   "cell_type": "code",
   "execution_count": 26,
   "metadata": {},
   "outputs": [
    {
     "data": {
      "text/plain": [
       "{'author': 'Fernando Pessoa',\n",
       " 'book_title': 'The Book of Disquiet',\n",
       " 'ratings': 4.44,\n",
       " 'genre': 'Fiction'}"
      ]
     },
     "execution_count": 26,
     "metadata": {},
     "output_type": "execute_result"
    }
   ],
   "source": [
    "recommender('Religion')"
   ]
  },
  {
   "cell_type": "code",
   "execution_count": 20,
   "metadata": {},
   "outputs": [
    {
     "data": {
      "text/html": [
       "<div>\n",
       "<style scoped>\n",
       "    .dataframe tbody tr th:only-of-type {\n",
       "        vertical-align: middle;\n",
       "    }\n",
       "\n",
       "    .dataframe tbody tr th {\n",
       "        vertical-align: top;\n",
       "    }\n",
       "\n",
       "    .dataframe thead th {\n",
       "        text-align: right;\n",
       "    }\n",
       "</style>\n",
       "<table border=\"1\" class=\"dataframe\">\n",
       "  <thead>\n",
       "    <tr style=\"text-align: right;\">\n",
       "      <th></th>\n",
       "      <th>author</th>\n",
       "      <th>book_title</th>\n",
       "      <th>ratings</th>\n",
       "      <th>genre</th>\n",
       "    </tr>\n",
       "  </thead>\n",
       "  <tbody>\n",
       "    <tr>\n",
       "      <th>88</th>\n",
       "      <td>João Guimarães Rosa</td>\n",
       "      <td>Grande Sertão: Veredas</td>\n",
       "      <td>4.57</td>\n",
       "      <td>Fiction</td>\n",
       "    </tr>\n",
       "    <tr>\n",
       "      <th>83</th>\n",
       "      <td>Rumi</td>\n",
       "      <td>مثنوی معنوی</td>\n",
       "      <td>4.46</td>\n",
       "      <td>Poetry</td>\n",
       "    </tr>\n",
       "    <tr>\n",
       "      <th>16</th>\n",
       "      <td>Jorge Luis Borges</td>\n",
       "      <td>Ficciones</td>\n",
       "      <td>4.44</td>\n",
       "      <td>Fiction</td>\n",
       "    </tr>\n",
       "    <tr>\n",
       "      <th>22</th>\n",
       "      <td>Fernando Pessoa</td>\n",
       "      <td>The Book of Disquiet</td>\n",
       "      <td>4.44</td>\n",
       "      <td>Fiction</td>\n",
       "    </tr>\n",
       "    <tr>\n",
       "      <th>97</th>\n",
       "      <td>Giacomo Leopardi</td>\n",
       "      <td>The Poems Of Leopardi</td>\n",
       "      <td>4.37</td>\n",
       "      <td>Poetry</td>\n",
       "    </tr>\n",
       "    <tr>\n",
       "      <th>59</th>\n",
       "      <td>Anton Chekhov</td>\n",
       "      <td>Selected Stories of Anton Chekhov</td>\n",
       "      <td>4.36</td>\n",
       "      <td>Short Stories</td>\n",
       "    </tr>\n",
       "    <tr>\n",
       "      <th>98</th>\n",
       "      <td>Paul Celan</td>\n",
       "      <td>Poems of Paul Celan</td>\n",
       "      <td>4.36</td>\n",
       "      <td>Poetry</td>\n",
       "    </tr>\n",
       "    <tr>\n",
       "      <th>63</th>\n",
       "      <td>Franz Kafka</td>\n",
       "      <td>The Complete Stories</td>\n",
       "      <td>4.35</td>\n",
       "      <td>Fiction</td>\n",
       "    </tr>\n",
       "    <tr>\n",
       "      <th>43</th>\n",
       "      <td>Edgar Allan Poe</td>\n",
       "      <td>The Collected Tales of Edgar Allan Poe</td>\n",
       "      <td>4.34</td>\n",
       "      <td>Classics</td>\n",
       "    </tr>\n",
       "    <tr>\n",
       "      <th>93</th>\n",
       "      <td>Saadi</td>\n",
       "      <td>The Orchard: The Bostan Of Saadi Of Shiraz</td>\n",
       "      <td>4.34</td>\n",
       "      <td>Poetry</td>\n",
       "    </tr>\n",
       "  </tbody>\n",
       "</table>\n",
       "</div>"
      ],
      "text/plain": [
       "                 author                                  book_title  ratings  \\\n",
       "88  João Guimarães Rosa                      Grande Sertão: Veredas     4.57   \n",
       "83                 Rumi                                 مثنوی معنوی     4.46   \n",
       "16    Jorge Luis Borges                                   Ficciones     4.44   \n",
       "22      Fernando Pessoa                        The Book of Disquiet     4.44   \n",
       "97     Giacomo Leopardi                       The Poems Of Leopardi     4.37   \n",
       "59        Anton Chekhov           Selected Stories of Anton Chekhov     4.36   \n",
       "98           Paul Celan                         Poems of Paul Celan     4.36   \n",
       "63          Franz Kafka                        The Complete Stories     4.35   \n",
       "43      Edgar Allan Poe      The Collected Tales of Edgar Allan Poe     4.34   \n",
       "93                Saadi  The Orchard: The Bostan Of Saadi Of Shiraz     4.34   \n",
       "\n",
       "            genre  \n",
       "88        Fiction  \n",
       "83         Poetry  \n",
       "16        Fiction  \n",
       "22        Fiction  \n",
       "97         Poetry  \n",
       "59  Short Stories  \n",
       "98         Poetry  \n",
       "63        Fiction  \n",
       "43       Classics  \n",
       "93         Poetry  "
      ]
     },
     "execution_count": 20,
     "metadata": {},
     "output_type": "execute_result"
    }
   ],
   "source": [
    "df.sort_values(by='ratings', ascending=False).iloc[:10]"
   ]
  },
  {
   "cell_type": "code",
   "execution_count": 37,
   "metadata": {},
   "outputs": [],
   "source": [
    "something = df.sample(6)"
   ]
  },
  {
   "cell_type": "code",
   "execution_count": 39,
   "metadata": {},
   "outputs": [
    {
     "data": {
      "text/plain": [
       "[{'author': 'Anonymous',\n",
       "  'book_title': 'Mahabharata',\n",
       "  'ratings': 4.29,\n",
       "  'genre': 'Classics'},\n",
       " {'author': 'D.H. Lawrence',\n",
       "  'book_title': 'Sons and Lovers',\n",
       "  'ratings': 3.63,\n",
       "  'genre': 'Classics'},\n",
       " {'author': 'George Eliot',\n",
       "  'book_title': 'Middlemarch',\n",
       "  'ratings': 3.97,\n",
       "  'genre': 'Classics'},\n",
       " {'author': 'Federico García Lorca',\n",
       "  'book_title': 'Romancero gitano',\n",
       "  'ratings': 4.18,\n",
       "  'genre': 'Poetry'},\n",
       " {'author': 'Thomas Mann',\n",
       "  'book_title': 'Buddenbrooks: The Decline of a Family',\n",
       "  'ratings': 4.16,\n",
       "  'genre': 'Classics'},\n",
       " {'author': 'Albert Camus',\n",
       "  'book_title': 'The Stranger',\n",
       "  'ratings': 3.99,\n",
       "  'genre': 'Classics'}]"
      ]
     },
     "execution_count": 39,
     "metadata": {},
     "output_type": "execute_result"
    }
   ],
   "source": [
    "[dict(something.iloc[i]) for i in range(6)]"
   ]
  },
  {
   "cell_type": "code",
   "execution_count": null,
   "metadata": {},
   "outputs": [],
   "source": []
  }
 ],
 "metadata": {
  "kernelspec": {
   "display_name": "Python 3",
   "language": "python",
   "name": "python3"
  },
  "language_info": {
   "codemirror_mode": {
    "name": "ipython",
    "version": 3
   },
   "file_extension": ".py",
   "mimetype": "text/x-python",
   "name": "python",
   "nbconvert_exporter": "python",
   "pygments_lexer": "ipython3",
   "version": "3.8.3"
  }
 },
 "nbformat": 4,
 "nbformat_minor": 4
}
